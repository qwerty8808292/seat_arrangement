{
 "cells": [
  {
   "cell_type": "code",
   "execution_count": 67,
   "metadata": {},
   "outputs": [
    {
     "name": "stdout",
     "output_type": "stream",
     "text": [
      "抽籤時間：2023-07-14 16:14\n",
      "D\n"
     ]
    }
   ],
   "source": [
    "import random\n",
    "from datetime import datetime\n",
    "\n",
    "def pick_student(students):\n",
    "    if not students:\n",
    "        return \"學生名單為空\"\n",
    "    chosen_student = random.choice(students)\n",
    "    current_datetime = datetime.now().strftime(\"%Y-%m-%d %H:%M\")\n",
    "    return f\"抽籤時間：{current_datetime}\\n{chosen_student}\"\n",
    "\n",
    "student_list = [\"A\", \"B\", \"C\", \"D\"]\n",
    "result = pick_student(student_list)\n",
    "print(result)\n"
   ]
  },
  {
   "cell_type": "code",
   "execution_count": 68,
   "metadata": {},
   "outputs": [
    {
     "name": "stdout",
     "output_type": "stream",
     "text": [
      "配對時間：2023-07-14 16:14\n",
      "配對結果：\n",
      "C  2\n",
      "F  1\n",
      "E  4\n",
      "D  3\n",
      "B  2\n",
      "A  1\n",
      "G  4\n",
      "\n"
     ]
    }
   ],
   "source": [
    "def pair_students(list1, list2):\n",
    "    if not list1 or not list2:\n",
    "        return \"學生名單為空\"\n",
    "\n",
    "    random.shuffle(list1)\n",
    "    random.shuffle(list2)\n",
    "\n",
    "    max_length = max(len(list1), len(list2))\n",
    "    paired_students = [(list1[i % len(list1)], list2[i % len(list2)]) for i in range(max_length)]\n",
    "\n",
    "    current_datetime = datetime.now().strftime(\"%Y-%m-%d %H:%M\")\n",
    "    result = f\"配對時間：{current_datetime}\\n配對結果：\\n\"\n",
    "    for pair in paired_students:\n",
    "        result += f\"{pair[0]}  {pair[1]}\\n\"\n",
    "    return result\n",
    "\n",
    "student_list1 = [\"A\", \"B\", \"C\", \"D\", \"E\", \"F\", \"G\"]\n",
    "student_list2 = [\"1\", \"2\", \"3\", \"4\"]\n",
    "result = pair_students(student_list1, student_list2)\n",
    "print(result)\n"
   ]
  }
 ],
 "metadata": {
  "kernelspec": {
   "display_name": "Python 3",
   "language": "python",
   "name": "python3"
  },
  "language_info": {
   "codemirror_mode": {
    "name": "ipython",
    "version": 3
   },
   "file_extension": ".py",
   "mimetype": "text/x-python",
   "name": "python",
   "nbconvert_exporter": "python",
   "pygments_lexer": "ipython3",
   "version": "3.10.7"
  },
  "orig_nbformat": 4
 },
 "nbformat": 4,
 "nbformat_minor": 2
}
